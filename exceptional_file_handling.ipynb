{
  "nbformat": 4,
  "nbformat_minor": 0,
  "metadata": {
    "colab": {
      "provenance": []
    },
    "kernelspec": {
      "name": "python3",
      "display_name": "Python 3"
    },
    "language_info": {
      "name": "python"
    }
  },
  "cells": [
    {
      "cell_type": "markdown",
      "metadata": {
        "id": "f9f3cecd"
      },
      "source": [
        "#Exceptional file handling\n",
        "\n",
        "1. What is the difference between interpreted and compiled languages ?\n",
        "- Compiled languages are translated into machine code before execution. This process is done by a compiler.Interpreted languages, on the other hand, are executed line by line by an interpreter at runtime. The interpreter reads and executes the code as it goes.\n",
        "\n",
        "2. What is exception handling in Python?\n",
        "- Exception handling is a mechanism in Python to deal with errors that occur during the execution of a program. These errors, called exceptions, disrupt the normal flow of the program's instructions.\n",
        "\n",
        "3. What is the purpose of the finally block in exception handling ?\n",
        "- The finally block in exception handling is used to define actions that must be executed regardless of whether an exception occurred or not. This is often used for cleanup operations, such as closing files or releasing resources, to ensure they are properly handled even if an error interrupts the normal execution flow.\n",
        "\n",
        "4. What is logging in Python ?\n",
        "- Logging is a means of tracking events that happen when some software runs.\n",
        "\n",
        "5. What is the significance of the **del** method in Python ?\n",
        "- The **del** method, also known as the destructor, is a special method in Python classes. It is called when an object is about to be destroyed or garbage collected.\n",
        "\n",
        "6. What is the difference between import and from ... import in Python ?\n",
        "- Both import and from ... import are used to bring modules or parts of modules into the current Python script or interactive session.\n",
        "\n",
        "7. How can you handle multiple exceptions in Python ?\n",
        "- In Python, there are two primary ways to handle multiple exceptions in a single try...except block: using multiple except blocks or combining them into a single except clause with a tuple.\n",
        "\n",
        "8. What is the purpose of the with statement when handling files in Python ?\n",
        "- The with statement in Python is a powerful tool designed to simplify resource management and ensure that resources are properly cleaned up after use, even if errors occur.\n",
        "\n",
        "9. What is the difference between multithreading and multiprocessing ?\n",
        "- Multithreading and multiprocessing are techniques for achieving concurrency, but they differ fundamentally in how they approach parallelism, manage memory, and handle communication.\n",
        "\n",
        "10. What are the advantages of using logging in a program ?\n",
        "- Using logging in a program offers significant advantages over simple print statements, providing a structured, organized, and robust way to track events.\n",
        "\n",
        "11. What is memory management in Python ?\n",
        "- Memory management in Python is the process of automatically allocating and deallocating memory for objects and data structures.\n",
        "\n",
        "12. What are the basic steps involved in exception handling in Python ?\n",
        "- The basic steps involved in exception handling in Python are:\n",
        "except: Define one or more except blocks to catch specific types of exceptions that might occur in the try block.\n",
        "else: Include an else block to execute code if no exception occurs in the try block.\n",
        "finally: Include a finally block to execute code that should always run, regardless of whether an exception occurred or not.\n",
        "\n",
        "13. Why is memory management important in Python ?\n",
        "- it directly impacts our program's performance, stability, and resource usage.\n",
        "\n",
        "14. What is the role of try and except in exception handling ?\n",
        "- The try and except blocks in exception handling are fundamental tools used to manage and recover from errors during a program's execution. Instead of an unexpected error causing our entire program to crash, try and except allow us to anticipate potential problems and provide a structured way to handle them gracefully.\n",
        "\n",
        "15. How does Python's garbage collection system work ?\n",
        "- it is an automatic memory management process that frees up memory occupied by objects that are no longer in use.\n",
        "\n",
        "16.What is the purpose of the else block in exception handling ?\n",
        "- if the exception gien in try block is found than else block condition is executed.\n",
        "\n",
        "17. What are the common logging levels in Python ?\n",
        "- DEBUG , INFO , WARNING , ERROR ,\n",
        "CRITICAL.\n",
        "\n",
        "18. What is the difference between os.fork() and multiprocessing in Python ?\n",
        "- os.fork(): This is a lower-level function that creates a new process by duplicating the existing one.\n",
        "multiprocessing module: This is a higher-level module in Python that provides a more user-friendly way to create and manage processes.\n",
        "\n",
        "19. What is the importance of closing a file in Python ?\n",
        "- closing a file in Python is important to ensure that any buffered data is saved to the file, to release system resources, and to prevent data corruption.\n",
        "\n",
        "20. What is the difference between file.read() and file.readline() in Python ?\n",
        "- file.read() reads the entire file content into a single string.\n",
        "file.readline() reads only a single line at a time.\n",
        "\n",
        "21. What is the logging module in Python used for ?\n",
        "- used to track events that occur while a program is running.\n",
        "\n",
        "22. What is the os module in Python used for in file handling ?\n",
        "- The os module in Python provides a way of interacting with the operating system. In the context of file handling, it's used for various operations related to the file system.\n",
        "\n",
        "23. What are the challenges associated with memory management in Python ?\n",
        "- memory overhead, cyclic references, and managing memory in long-running or large-scale applications.\n",
        "\n",
        "24. How do you raise an exception manually in Python ?\n",
        "- we can raise an exception manually in Python using the `raise` keyword. This is useful when we encounter a condition that should stop the normal execution of the program and signal that an error has occurred.\n",
        "\n",
        "25. Why is it important to use multithreading in certain applications ?\n",
        "- multithreading is important in Python for I/O-bound tasks because it allows your program to perform other tasks while waiting for these operations to complete, improving responsiveness and concurrency, even with the GIL."
      ]
    },
    {
      "cell_type": "code",
      "source": [
        "#1 How can you open a file for writing in Python and write a string to it.\n",
        "file = open(\"example.txt\", \"w\")\n",
        "file.write(\"Hello, World!\")\n",
        "file.close()\n"
      ],
      "metadata": {
        "id": "5ssaKyFhdnr_"
      },
      "execution_count": 1,
      "outputs": []
    },
    {
      "cell_type": "code",
      "source": [
        "#2 Write a Python program to read the contents of a file and print each line.\n",
        "file = open(\"example.txt\", \"r\")\n",
        "lines = file.readlines()\n",
        "for line in lines:\n",
        "    print(line)\n",
        "file.close()\n"
      ],
      "metadata": {
        "id": "UVpiRIfteKkc"
      },
      "execution_count": null,
      "outputs": []
    },
    {
      "cell_type": "code",
      "source": [
        "#3  How would you handle a case where the file doesn't exist while trying to open it for reading ?\n",
        "\n",
        "try:\n",
        "    file = open(\"non_existent_file.txt\", \"r\")\n",
        "    content = file.read()\n",
        "    print(content)\n",
        "    file.close()\n",
        "except FileNotFoundError:\n",
        "    print(\"Error: The file was not found.\")"
      ],
      "metadata": {
        "colab": {
          "base_uri": "https://localhost:8080/"
        },
        "id": "Sxcz20qjedZN",
        "outputId": "8f25ca24-7fef-41fb-8863-fecb0e349a2b"
      },
      "execution_count": 1,
      "outputs": [
        {
          "output_type": "stream",
          "name": "stdout",
          "text": [
            "Error: The file was not found.\n"
          ]
        }
      ]
    },
    {
      "cell_type": "code",
      "source": [
        "#4 Write a Python script that reads from one file and writes its content to another file ?\n",
        "\n",
        "source_file_name = \"source.txt\"\n",
        "with open(source_file_name, \"w\") as source_file:\n",
        "    source_file.write(\"This is the content of the source file.\")\n",
        "\n",
        "destination_file_name = \"destination.txt\"\n",
        "\n",
        "try:\n",
        "\n",
        "    with open(source_file_name, \"r\") as source_file:\n",
        "\n",
        "        content = source_file.read()\n",
        "\n",
        "    with open(destination_file_name, \"w\") as destination_file:\n",
        "\n",
        "        destination_file.write(content)\n",
        "\n",
        "    print(f\"Content from '{source_file_name}' successfully copied to '{destination_file_name}'.\")\n",
        "\n",
        "except FileNotFoundError:\n",
        "    print(f\"Error: The source file '{source_file_name}' was not found.\")\n",
        "except Exception as e:\n",
        "    print(f\"An error occurred: {e}\")"
      ],
      "metadata": {
        "colab": {
          "base_uri": "https://localhost:8080/"
        },
        "id": "1RtLYkEyjN-m",
        "outputId": "856b219b-cf0d-43de-8562-ab6c253584cf"
      },
      "execution_count": 2,
      "outputs": [
        {
          "output_type": "stream",
          "name": "stdout",
          "text": [
            "Content from 'source.txt' successfully copied to 'destination.txt'.\n"
          ]
        }
      ]
    },
    {
      "cell_type": "code",
      "source": [
        "#5 How would you catch and handle division by zero error in Python ?\n",
        "\n",
        "try:\n",
        "    result = 10 / 0\n",
        "    print(result)\n",
        "except ZeroDivisionError:\n",
        "    print(\"Error: Cannot divide by zero!\")"
      ],
      "metadata": {
        "id": "sHx0qs07k02Y"
      },
      "execution_count": null,
      "outputs": []
    },
    {
      "cell_type": "code",
      "source": [
        "#6 Write a Python program that logs an error message to a log file when a division by zero exception occurs\n",
        "\n",
        "import logging\n",
        "\n",
        "logging.basicConfig(filename='app.log', level=logging.ERROR, format='%(asctime)s - %(levelname)s - %(message)s')\n",
        "\n",
        "def divide(a, b):\n",
        "    try:\n",
        "        result = a / b\n",
        "        return result\n",
        "    except ZeroDivisionError:\n",
        "\n",
        "        logging.error(\"Attempted to divide by zero!\")\n",
        "        return None\n",
        "numerator = 10\n",
        "denominator = 0\n",
        "\n",
        "division_result = divide(numerator, denominator)\n",
        "\n",
        "if division_result is None:\n",
        "    print(\"Division failed. Check the 'app.log' file for details.\")\n",
        "else:\n",
        "    print(f\"The result of the division is: {division_result}\")"
      ],
      "metadata": {
        "colab": {
          "base_uri": "https://localhost:8080/"
        },
        "id": "XUj9OJuKlGgx",
        "outputId": "04216982-f03a-4cb8-9ce6-fc6f1d5db090"
      },
      "execution_count": 3,
      "outputs": [
        {
          "output_type": "stream",
          "name": "stderr",
          "text": [
            "ERROR:root:Attempted to divide by zero!\n"
          ]
        },
        {
          "output_type": "stream",
          "name": "stdout",
          "text": [
            "Division failed. Check the 'app.log' file for details.\n"
          ]
        }
      ]
    },
    {
      "cell_type": "code",
      "source": [
        "#7 How do you log information at different levels (INFO, ERROR, WARNING) in Python using the logging module.\n",
        "\n",
        "import logging\n",
        "\n",
        "logging.basicConfig(level=logging.INFO, format='%(asctime)s - %(levelname)s - %(message)s')\n",
        "\n",
        "logging.debug(\"This is a debug message.\")\n",
        "logging.info(\"This is an info message.\")\n",
        "logging.warning(\"This is a warning message.\")\n",
        "logging.error(\"This is an error message.\")\n",
        "logging.critical(\"This is a critical message.\")\n",
        "\n",
        "print(\"\\nCheck the output above for logged messages.\")"
      ],
      "metadata": {
        "id": "8P39dRwvlscp"
      },
      "execution_count": null,
      "outputs": []
    },
    {
      "cell_type": "code",
      "source": [
        "#8 Write a program to handle a file opening error using exception handling.\n",
        "\n",
        "def read_file(filename):\n",
        "    try:\n",
        "        with open(filename, 'r') as file:\n",
        "            content = file.read()\n",
        "            print(f\"File content:\\n{content}\")\n",
        "    except FileNotFoundError:\n",
        "        print(f\"Error: The file '{filename}' was not found.\")\n",
        "    except IOError:\n",
        "        print(f\"Error: An I/O error occurred while reading the file '{filename}'.\")\n",
        "\n",
        "\n",
        "print(\"Attempting to read an existing file:\")\n",
        "read_file(\"source.txt\")\n",
        "\n",
        "print(\"\\nAttempting to read a non-existent file:\")\n",
        "read_file(\"non_existent_file.txt\")\n"
      ],
      "metadata": {
        "id": "kAEtftvmmOOC"
      },
      "execution_count": null,
      "outputs": []
    },
    {
      "cell_type": "code",
      "source": [
        "#9  How can you read a file line by line and store its content in a list in Python\n",
        "\n",
        "def read_file_line_by_line(filename):\n",
        "    lines = []\n",
        "    try:\n",
        "        with open(filename, 'r') as file:\n",
        "            for line in file:\n",
        "                lines.append(line.strip())\n",
        "        return lines\n",
        "    except FileNotFoundError:\n",
        "        print(f\"Error: The file '{filename}' was not found.\")\n",
        "        return None\n",
        "    except IOError:\n",
        "        print(f\"Error: An I/O error occurred while reading the file '{filename}'.\")\n",
        "        return None\n",
        "\n",
        "\n",
        "sample_file_name = \"sample.txt\"\n",
        "with open(sample_file_name, \"w\") as sample_file:\n",
        "    sample_file.write(\"This is the first line.\\n\")\n",
        "    sample_file.write(\"This is the second line.\\n\")\n",
        "    sample_file.write(\"And this is the third line.\")\n",
        "\n",
        "file_content_list = read_file_line_by_line(sample_file_name)\n",
        "\n",
        "if file_content_list is not None:\n",
        "    print(f\"Content of '{sample_file_name}' as a list:\")\n",
        "    print(file_content_list)\n",
        "\n",
        "\n",
        "print(\"\\nAttempting to read a non-existent file:\")\n",
        "non_existent_file_content = read_file_line_by_line(\"non_existent.txt\")\n",
        "if non_existent_file_content is None:\n",
        "    print(\"Could not read the non-existent file.\")"
      ],
      "metadata": {
        "id": "LPmCS5remrqA"
      },
      "execution_count": null,
      "outputs": []
    },
    {
      "cell_type": "code",
      "source": [
        "#10. How can you append data to an existing file in Python\n",
        "\n",
        "\n",
        "file_to_append = \"my_append_file.txt\"\n",
        "with open(file_to_append, \"w\") as f:\n",
        "    f.write(\"This is the original content.\\n\")\n",
        "\n",
        "print(f\"Original content of '{file_to_append}':\")\n",
        "with open(file_to_append, \"r\") as f:\n",
        "    print(f.read())\n",
        "\n",
        "\n",
        "data_to_append = \"This is the new appended content.\\n\"\n",
        "try:\n",
        "    with open(file_to_append, \"a\") as f:\n",
        "        f.write(data_to_append)\n",
        "    print(f\"\\nSuccessfully appended data to '{file_to_append}'.\")\n",
        "except IOError as e:\n",
        "    print(f\"Error: An I/O error occurred while appending to the file: {e}\")\n",
        "\n",
        "\n",
        "print(f\"\\nContent of '{file_to_append}' after appending:\")\n",
        "with open(file_to_append, \"r\") as f:\n",
        "    print(f.read())"
      ],
      "metadata": {
        "id": "CsPekL_5ohLt"
      },
      "execution_count": null,
      "outputs": []
    },
    {
      "cell_type": "code",
      "source": [
        "# #11. Write a Python program that uses a try-except block to handle an error when attempting to access a\n",
        "# dictionary key that doesn't exist\n",
        "\n",
        "my_dict = {\"name\": \"Alice\", \"age\": 30}\n",
        "\n",
        "try:\n",
        "\n",
        "    city = my_dict[\"city\"]\n",
        "    print(f\"City: {city}\")\n",
        "except KeyError:\n",
        "\n",
        "    print(\"Error: The key 'city' was not found in the dictionary.\")\n",
        "except Exception as e:\n",
        "\n",
        "    print(f\"An unexpected error occurred: {e}\")\n",
        "\n",
        "try:\n",
        "    name = my_dict[\"name\"]\n",
        "    print(f\"Name: {name}\")\n",
        "except KeyError:\n",
        "    print(\"Error: The key 'name' was not found in the dictionary.\")"
      ],
      "metadata": {
        "colab": {
          "base_uri": "https://localhost:8080/"
        },
        "id": "s6Z9aFGDuhUv",
        "outputId": "d01da0a6-ece2-45a0-d272-75855710c5fc"
      },
      "execution_count": 4,
      "outputs": [
        {
          "output_type": "stream",
          "name": "stdout",
          "text": [
            "Error: The key 'city' was not found in the dictionary.\n",
            "Name: Alice\n"
          ]
        }
      ]
    },
    {
      "cell_type": "code",
      "source": [
        "#12.  Write a program that demonstrates using multiple except blocks to handle different types of exceptions\n",
        "\n",
        "def divide_and_access_list(a, b, index, my_list):\n",
        "    try:\n",
        "\n",
        "        result = a / b\n",
        "        print(f\"Division result: {result}\")\n",
        "\n",
        "\n",
        "        value = my_list[index]\n",
        "        print(f\"Value at index {index}: {value}\")\n",
        "\n",
        "    except ZeroDivisionError:\n",
        "        print(\"Error: Cannot divide by zero!\")\n",
        "    except IndexError:\n",
        "        print(f\"Error: Index {index} is out of bounds for the list.\")\n",
        "    except TypeError:\n",
        "        print(\"Error: Invalid type for division or list access.\")\n",
        "    except Exception as e:\n",
        "        print(f\"An unexpected error occurred: {e}\")\n",
        "\n",
        "\n",
        "print(\"--- Test Case 1: No Error ---\")\n",
        "divide_and_access_list(10, 2, 1, [1, 2, 3])\n",
        "\n",
        "print(\"\\n--- Test Case 2: ZeroDivisionError ---\")\n",
        "divide_and_access_list(10, 0, 1, [1, 2, 3])\n",
        "\n",
        "print(\"\\n--- Test Case 3: IndexError ---\")\n",
        "divide_and_access_list(10, 2, 5, [1, 2, 3])\n",
        "\n",
        "print(\"\\n--- Test Case 4: TypeError ---\")\n",
        "divide_and_access_list(10, \"a\", 1, [1, 2, 3])"
      ],
      "metadata": {
        "id": "A-BvoX0lvaiZ"
      },
      "execution_count": null,
      "outputs": []
    },
    {
      "cell_type": "code",
      "source": [
        "# 13. How would you check if a file exists before attempting to read it in Python\n",
        "\n",
        "import os\n",
        "\n",
        "def read_file_if_exists(filename):\n",
        "    if os.path.exists(filename):\n",
        "        print(f\"File '{filename}' exists. Attempting to read...\")\n",
        "        try:\n",
        "            with open(filename, 'r') as file:\n",
        "                content = file.read()\n",
        "                print(f\"File content:\\n{content}\")\n",
        "        except IOError as e:\n",
        "            print(f\"Error reading file '{filename}': {e}\")\n",
        "    else:\n",
        "        print(f\"Error: File '{filename}' does not exist.\")\n",
        "\n",
        "\n",
        "print(\"--- Test Case 1: Existing File ---\")\n",
        "read_file_if_exists(\"source.txt\")\n",
        "\n",
        "# Test with a non-existent file\n",
        "print(\"\\n--- Test Case 2: Non-Existent File ---\")\n",
        "read_file_if_exists(\"non_existent_file_check.txt\")"
      ],
      "metadata": {
        "id": "h5BDFCCNyMhF"
      },
      "execution_count": null,
      "outputs": []
    },
    {
      "cell_type": "code",
      "source": [
        "#14. Write a program that uses the logging module to log both informational and error messages\n",
        "\n",
        "import logging\n",
        "\n",
        "logging.basicConfig(level=logging.INFO, format='%(asctime)s - %(levelname)s - %(message)s')\n",
        "\n",
        "def process_data(data):\n",
        "    logging.info(f\"Processing data: {data}\")\n",
        "    try:\n",
        "        result = 10 / data\n",
        "        logging.info(f\"Result of processing: {result}\")\n",
        "        return result\n",
        "    except ZeroDivisionError:\n",
        "        logging.error(\"Error: Attempted to divide by zero!\")\n",
        "        return None\n",
        "    except TypeError:\n",
        "        logging.error(\"Error: Invalid data type for division!\")\n",
        "        return None\n",
        "\n",
        "\n",
        "print(\"--- Test Case 1: Successful processing ---\")\n",
        "process_data(2)\n",
        "\n",
        "print(\"\\n--- Test Case 2: Division by zero error ---\")\n",
        "process_data(0)\n",
        "\n",
        "print(\"\\n--- Test Case 3: Type error ---\")\n",
        "process_data(\"abc\")\n",
        "\n",
        "print(\"\\nCheck the console output and the 'root.log' file (if configured) for log messages.\")"
      ],
      "metadata": {
        "colab": {
          "base_uri": "https://localhost:8080/"
        },
        "id": "37JicaFU0Ece",
        "outputId": "66af5fc0-69f0-418d-e6b8-3588f3e8bae3"
      },
      "execution_count": 5,
      "outputs": [
        {
          "output_type": "stream",
          "name": "stderr",
          "text": [
            "ERROR:root:Error: Attempted to divide by zero!\n",
            "ERROR:root:Error: Invalid data type for division!\n"
          ]
        },
        {
          "output_type": "stream",
          "name": "stdout",
          "text": [
            "--- Test Case 1: Successful processing ---\n",
            "\n",
            "--- Test Case 2: Division by zero error ---\n",
            "\n",
            "--- Test Case 3: Type error ---\n",
            "\n",
            "Check the console output and the 'root.log' file (if configured) for log messages.\n"
          ]
        }
      ]
    },
    {
      "cell_type": "code",
      "source": [
        "#15 Write a Python program that prints the content of a file and handles the case when the file is empty\n",
        "\n",
        "def print_file_content(filename):\n",
        "    try:\n",
        "        with open(filename, 'r') as file:\n",
        "            content = file.read()\n",
        "            if content:\n",
        "                print(f\"Content of '{filename}':\\n{content}\")\n",
        "            else:\n",
        "                print(f\"The file '{filename}' is empty.\")\n",
        "    except FileNotFoundError:\n",
        "        print(f\"Error: The file '{filename}' was not found.\")\n",
        "    except IOError as e:\n",
        "        print(f\"Error reading file '{filename}': {e}\")\n",
        "\n",
        "file_with_content = \"file_with_content.txt\"\n",
        "with open(file_with_content, \"w\") as f:\n",
        "    f.write(\"This file has some content.\")\n",
        "\n",
        "\n",
        "empty_file = \"empty_file.txt\"\n",
        "with open(empty_file, \"w\") as f:\n",
        "    pass\n",
        "\n",
        "print(\"--- Test Case 1: File with content ---\")\n",
        "print_file_content(file_with_content)\n",
        "\n",
        "print(\"\\n--- Test Case 2: Empty file ---\")\n",
        "print_file_content(empty_file)\n",
        "\n",
        "\n",
        "print(\"\\n--- Test Case 3: Non-existent file ---\")\n",
        "print_file_content(\"non_existent_file_for_empty_check.txt\")"
      ],
      "metadata": {
        "id": "4uG0jCe41U2k"
      },
      "execution_count": null,
      "outputs": []
    },
    {
      "cell_type": "code",
      "source": [
        "#16. Demonstrate how to use memory profiling to check the memory usage of a small program\n"
      ],
      "metadata": {
        "id": "B09WfEQA3KD5"
      },
      "execution_count": null,
      "outputs": []
    },
    {
      "cell_type": "code",
      "metadata": {
        "id": "a7b6eac3"
      },
      "source": [
        "%pip install memory-profiler"
      ],
      "execution_count": null,
      "outputs": []
    },
    {
      "cell_type": "code",
      "metadata": {
        "id": "3572e6c8"
      },
      "source": [
        "#16. Demonstrate how to use memory profiling to check the memory usage of a small program\n",
        "\n",
        "from memory_profiler import profile\n",
        "\n",
        "\n",
        "@profile\n",
        "def create_list_of_zeros(size):\n",
        "    \"\"\"Creates a list of zeros of a given size.\"\"\"\n",
        "    my_list = [0] * size\n",
        "    return my_list\n",
        "\n",
        "\n",
        "list_size = 1000000\n",
        "my_large_list = create_list_of_zeros(list_size)\n",
        "\n",
        "print(f\"Created a list of {list_size} zeros.\")\n"
      ],
      "execution_count": null,
      "outputs": []
    },
    {
      "cell_type": "code",
      "source": [
        "#17. F Write a Python program to create and write a list of numbers to a file, one number per line\n",
        "\n",
        "def write_numbers_to_file(filename, numbers):\n",
        "    try:\n",
        "        with open(filename, 'w') as file:\n",
        "            for number in numbers:\n",
        "                file.write(str(number) + '\\n')\n",
        "        print(f\"Successfully wrote numbers to '{filename}'.\")\n",
        "    except IOError as e:\n",
        "        print(f\"Error writing to file '{filename}': {e}\")\n",
        "\n",
        "\n",
        "my_numbers = [10, 25, 5, 42, 18, 77]\n",
        "\n",
        "output_filename = \"numbers_list.txt\"\n",
        "\n",
        "write_numbers_to_file(output_filename, my_numbers)\n",
        "\n",
        "print(f\"\\nContent of '{output_filename}':\")\n",
        "try:\n",
        "    with open(output_filename, 'r') as file:\n",
        "        print(file.read())\n",
        "except FileNotFoundError:\n",
        "    print(f\"Error: The file '{output_filename}' was not found after writing.\")"
      ],
      "metadata": {
        "id": "z0pzos0d3pLv"
      },
      "execution_count": null,
      "outputs": []
    },
    {
      "cell_type": "code",
      "source": [
        "#18. How would you implement a basic logging setup that logs to a file with rotation after 1MB\n",
        "\n",
        "import logging\n",
        "import logging.handlers\n",
        "import os\n",
        "\n",
        "\n",
        "log_file = \"rotating_log.log\"\n",
        "\n",
        "\n",
        "max_bytes = 1024 * 1024\n",
        "\n",
        "backup_count = 5\n",
        "\n",
        "logging.basicConfig(level=logging.INFO)\n",
        "\n",
        "handler = logging.handlers.RotatingFileHandler(\n",
        "    log_file,\n",
        "    maxBytes=max_bytes,\n",
        "    backupCount=backup_count\n",
        ")\n",
        "\n",
        "\n",
        "formatter = logging.Formatter('%(asctime)s - %(name)s - %(levelname)s - %(message)s')\n",
        "handler.setFormatter(formatter)\n",
        "\n",
        "\n",
        "logger = logging.getLogger('')\n",
        "\n",
        "logger.addHandler(handler)\n",
        "\n",
        "\n",
        "print(f\"Logging messages to '{log_file}' to demonstrate rotation after {max_bytes} bytes.\")\n",
        "print(f\"Check the file(s) in the file browser after execution.\")\n",
        "\n",
        "for i in range(100000):\n",
        "    logger.info(f\"This is log message number {i + 1}\")\n",
        "\n",
        "print(\"\\nLogging complete. Check the log file(s) in the file browser.\")\n",
        "\n"
      ],
      "metadata": {
        "colab": {
          "base_uri": "https://localhost:8080/"
        },
        "id": "N1ZIlIFC5l4x",
        "outputId": "5022b4b2-f3fb-4d50-c2c8-9e50c82aa036"
      },
      "execution_count": 6,
      "outputs": [
        {
          "output_type": "stream",
          "name": "stdout",
          "text": [
            "Logging messages to 'rotating_log.log' to demonstrate rotation after 1048576 bytes.\n",
            "Check the file(s) in the file browser after execution.\n",
            "\n",
            "Logging complete. Check the log file(s) in the file browser.\n"
          ]
        }
      ]
    },
    {
      "cell_type": "code",
      "source": [
        "#19. Write a program that handles both IndexError and KeyError using a try-except block\n",
        "\n",
        "def access_collection(collection, key_or_index):\n",
        "    try:\n",
        "\n",
        "        value = collection[key_or_index]\n",
        "        print(f\"Accessed value: {value}\")\n",
        "    except (IndexError, KeyError):\n",
        "\n",
        "        print(f\"Error: Could not access element with key/index '{key_or_index}'. It's either an invalid index or a non-existent key.\")\n",
        "    except Exception as e:\n",
        "\n",
        "        print(f\"An unexpected error occurred: {e}\")\n",
        "\n",
        "\n",
        "my_list = [10, 20, 30]\n",
        "print(\"--- Test with a list ---\")\n",
        "access_collection(my_list, 1)\n",
        "access_collection(my_list, 5)\n",
        "\n",
        "my_dict = {\"apple\": 1, \"banana\": 2}\n",
        "print(\"\\n--- Test with a dictionary ---\")\n",
        "access_collection(my_dict, \"apple\")\n",
        "access_collection(my_dict, \"cherry\")\n",
        "\n",
        "print(\"\\n--- Test with invalid type ---\")\n",
        "access_collection(my_list, \"abc\")"
      ],
      "metadata": {
        "id": "-5Uvz0nP6Ptj"
      },
      "execution_count": null,
      "outputs": []
    },
    {
      "cell_type": "code",
      "source": [
        "# 20. How would you open a file and read its contents using a context manager in Python\n",
        "\n",
        "\n",
        "sample_file = \"context_manager_example.txt\"\n",
        "with open(sample_file, \"w\") as f:\n",
        "    f.write(\"This file was opened and written using a context manager.\\n\")\n",
        "    f.write(\"The 'with' statement ensures it's closed automatically.\")\n",
        "\n",
        "print(f\"Reading content from '{sample_file}' using a context manager:\")\n",
        "\n",
        "try:\n",
        "\n",
        "    with open(sample_file, 'r') as file:\n",
        "\n",
        "        content = file.read()\n",
        "        print(content)\n",
        "\n",
        "\n",
        "except FileNotFoundError:\n",
        "    print(f\"Error: The file '{sample_file}' was not found.\")\n",
        "except IOError as e:\n",
        "    print(f\"Error reading file '{sample_file}': {e}\")\n",
        "\n",
        "print(\"\\nFile operations completed. The file is automatically closed.\")"
      ],
      "metadata": {
        "id": "UHKQIrqp63xm"
      },
      "execution_count": null,
      "outputs": []
    },
    {
      "cell_type": "code",
      "source": [
        "#21. Write a Python program that reads a file and prints the number of occurrences of a specific word\n",
        "\n",
        "def count_word_occurrences(filename, word):\n",
        "    count = 0\n",
        "    try:\n",
        "        with open(filename, 'r') as file:\n",
        "            content = file.read()\n",
        "\n",
        "            content = content.lower()\n",
        "\n",
        "            words = content.split()\n",
        "            count = words.count(word.lower())\n",
        "        print(f\"The word '{word}' appears {count} times in '{filename}'.\")\n",
        "    except FileNotFoundError:\n",
        "        print(f\"Error: The file '{filename}' was not found.\")\n",
        "    except IOError as e:\n",
        "        print(f\"Error reading file '{filename}': {e}\")\n",
        "\n",
        "\n",
        "sample_file_name = \"sample_word_count.txt\"\n",
        "with open(sample_file_name, \"w\") as f:\n",
        "    f.write(\"This is a sample file.\\n\")\n",
        "    f.write(\"This file is for counting words.\\n\")\n",
        "    f.write(\"This is another line with the word this.\")\n",
        "\n",
        "\n",
        "word_to_find = \"this\"\n",
        "\n",
        "\n",
        "count_word_occurrences(sample_file_name, word_to_find)\n",
        "print(\"\\n--- Test with a non-existent file ---\")\n",
        "count_word_occurrences(\"non_existent_word_count.txt\", \"test\")"
      ],
      "metadata": {
        "id": "8Y5Rk7xu7MsN"
      },
      "execution_count": null,
      "outputs": []
    },
    {
      "cell_type": "code",
      "source": [
        "#22. How can you check if a file is empty before attempting to read its contents\n",
        "\n",
        "import os\n",
        "\n",
        "def is_file_empty(filepath):\n",
        "\n",
        "    if not os.path.exists(filepath):\n",
        "        print(f\"Error: File '{filepath}' not found.\")\n",
        "        return False\n",
        "    else:\n",
        "\n",
        "        if os.path.getsize(filepath) == 0:\n",
        "            print(f\"File '{filepath}' exists and is empty.\")\n",
        "            return True\n",
        "        else:\n",
        "            print(f\"File '{filepath}' exists and is not empty.\")\n",
        "            return False\n",
        "\n",
        "file_with_content = \"file_with_content_check.txt\"\n",
        "with open(file_with_content, \"w\") as f:\n",
        "    f.write(\"This file has some content.\")\n",
        "\n",
        "\n",
        "empty_file = \"empty_file_check.txt\"\n",
        "with open(empty_file, \"w\") as f:\n",
        "    pass\n",
        "\n",
        "print(\"--- Test Case 1: File with content ---\")\n",
        "is_file_empty(file_with_content)\n",
        "\n",
        "print(\"\\n--- Test Case 2: Empty file ---\")\n",
        "is_file_empty(empty_file)\n",
        "\n",
        "print(\"\\n--- Test Case 3: Non-existent file ---\")\n",
        "is_file_empty(\"non_existent_file_for_empty_check_2.txt\")"
      ],
      "metadata": {
        "id": "YeYlARSk7fM6"
      },
      "execution_count": null,
      "outputs": []
    },
    {
      "cell_type": "code",
      "source": [
        "#23. Write a Python program that writes to a log file when an error occurs during file handling\n",
        "\n",
        "import logging\n",
        "\n",
        "\n",
        "logging.basicConfig(filename='file_errors.log', level=logging.ERROR, format='%(asctime)s - %(levelname)s - %(message)s')\n",
        "\n",
        "def read_and_log_errors(filename):\n",
        "    try:\n",
        "        with open(filename, 'r') as file:\n",
        "            content = file.read()\n",
        "            print(f\"Successfully read content from '{filename}':\\n{content}\")\n",
        "    except FileNotFoundError:\n",
        "        error_message = f\"Error: File '{filename}' not found.\"\n",
        "        logging.error(error_message)\n",
        "        print(error_message)\n",
        "    except IOError as e:\n",
        "        error_message = f\"Error: An I/O error occurred while reading file '{filename}': {e}\"\n",
        "        logging.error(error_message)\n",
        "        print(error_message)\n",
        "    except Exception as e:\n",
        "        error_message = f\"Error: An unexpected error occurred while handling file '{filename}': {e}\"\n",
        "        logging.error(error_message)\n",
        "        print(error_message)\n",
        "\n",
        "print(\"--- Attempting to read a non-existent file ---\")\n",
        "read_and_log_errors(\"non_existent_file_for_logging.txt\")\n",
        "\n",
        "\n",
        "print(\"\\n--- Attempting to read an existing file ---\")\n",
        "\n",
        "with open(\"temp_log_test_file.txt\", \"w\") as f:\n",
        "    f.write(\"This is a test file.\")\n",
        "read_and_log_errors(\"temp_log_test_file.txt\")\n",
        "\n",
        "print(\"\\nCheck the 'file_errors.log' file for logged error messages.\")"
      ],
      "metadata": {
        "id": "8bQPO3KE70cS"
      },
      "execution_count": null,
      "outputs": []
    }
  ]
}